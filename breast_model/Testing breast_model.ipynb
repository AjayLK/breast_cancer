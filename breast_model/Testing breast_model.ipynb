{
 "cells": [
  {
   "cell_type": "code",
   "execution_count": 1,
   "id": "648ebda4",
   "metadata": {},
   "outputs": [],
   "source": [
    "import pandas as pd\n",
    "import numpy as np\n",
    "import pickle\n",
    "import json"
   ]
  },
  {
   "cell_type": "code",
   "execution_count": 4,
   "id": "24519b83",
   "metadata": {},
   "outputs": [],
   "source": [
    "with open(\"dt_clf_model.pkl\",\"rb\") as f:\n",
    "    dt_clf_model = pickle.load(f)"
   ]
  },
  {
   "cell_type": "code",
   "execution_count": 5,
   "id": "2a183289",
   "metadata": {},
   "outputs": [],
   "source": [
    "with open(\"project_data\",\"r\") as f:\n",
    "    breast_data = json.load(f)\n",
    "    "
   ]
  },
  {
   "cell_type": "markdown",
   "id": "3ae40f1d",
   "metadata": {},
   "source": [
    "# User input"
   ]
  },
  {
   "cell_type": "code",
   "execution_count": 6,
   "id": "b51178ef",
   "metadata": {},
   "outputs": [],
   "source": [
    "mean_radius = 17.99\n",
    "mean_texture = 10.38\n",
    "mean_perimeter = 122.80\n",
    "mean_area = 1000\n",
    "mean_smoothness = 0.118\n",
    "mean_compactness = 0.277\n",
    "mean_concavity = 0.300\n",
    "mean_concave_points = 0.147\n",
    "mean_symmetry = 0.241\n",
    "mean_fractal_dimension = 0.152\n",
    "radius_error = 1.095\n",
    "texture_error = 0.905\n",
    "perimeter_error = 8.58\n",
    "area_error = 153\n",
    "smoothness_error = 0.006\n",
    "compactness_error = 0.049\n",
    "concavity_error = 0.053\n",
    "concave_points_error = 0.01\n",
    "symmetry_error = 0.030030\n",
    "fractal_dimension_error = 0.02\n",
    "worst_radius = 25.38\n",
    "worst_texture = 17.33\n",
    "worst_perimeter = 184\n",
    "worst_area = 2019\n",
    "worst_smoothness = 0.162\n",
    "worst_compactness = 0.665\n",
    "worst_concavity = 0.711\n",
    "worst_concave_points = 0.265\n",
    "worst_symmetry = 0.460\n",
    "worst_fractal_dimension = 0.118"
   ]
  },
  {
   "cell_type": "code",
   "execution_count": 7,
   "id": "4cd6ea51",
   "metadata": {},
   "outputs": [
    {
     "data": {
      "text/plain": [
       "{'columns': ['mean radius',\n",
       "  'mean texture',\n",
       "  'mean perimeter',\n",
       "  'mean area',\n",
       "  'mean smoothness',\n",
       "  'mean compactness',\n",
       "  'mean concavity',\n",
       "  'mean concave points',\n",
       "  'mean symmetry',\n",
       "  'mean fractal dimension',\n",
       "  'radius error',\n",
       "  'texture error',\n",
       "  'perimeter error',\n",
       "  'area error',\n",
       "  'smoothness error',\n",
       "  'compactness error',\n",
       "  'concavity error',\n",
       "  'concave points error',\n",
       "  'symmetry error',\n",
       "  'fractal dimension error',\n",
       "  'worst radius',\n",
       "  'worst texture',\n",
       "  'worst perimeter',\n",
       "  'worst area',\n",
       "  'worst smoothness',\n",
       "  'worst compactness',\n",
       "  'worst concavity',\n",
       "  'worst concave points',\n",
       "  'worst symmetry',\n",
       "  'worst fractal dimension']}"
      ]
     },
     "execution_count": 7,
     "metadata": {},
     "output_type": "execute_result"
    }
   ],
   "source": [
    "breast_data"
   ]
  },
  {
   "cell_type": "code",
   "execution_count": 13,
   "id": "17e72c06",
   "metadata": {},
   "outputs": [
    {
     "data": {
      "text/plain": [
       "array(['mean radius', 'mean texture', 'mean perimeter', 'mean area',\n",
       "       'mean smoothness', 'mean compactness', 'mean concavity',\n",
       "       'mean concave points', 'mean symmetry', 'mean fractal dimension',\n",
       "       'radius error', 'texture error', 'perimeter error', 'area error',\n",
       "       'smoothness error', 'compactness error', 'concavity error',\n",
       "       'concave points error', 'symmetry error',\n",
       "       'fractal dimension error', 'worst radius', 'worst texture',\n",
       "       'worst perimeter', 'worst area', 'worst smoothness',\n",
       "       'worst compactness', 'worst concavity', 'worst concave points',\n",
       "       'worst symmetry', 'worst fractal dimension'], dtype='<U23')"
      ]
     },
     "execution_count": 13,
     "metadata": {},
     "output_type": "execute_result"
    }
   ],
   "source": [
    "column_names = np.array(breast_data['columns'])\n",
    "column_names"
   ]
  },
  {
   "cell_type": "code",
   "execution_count": 16,
   "id": "8261c164",
   "metadata": {},
   "outputs": [
    {
     "data": {
      "text/plain": [
       "30"
      ]
     },
     "execution_count": 16,
     "metadata": {},
     "output_type": "execute_result"
    }
   ],
   "source": [
    "column_names.shape[0]"
   ]
  },
  {
   "cell_type": "code",
   "execution_count": 18,
   "id": "c14a9f19",
   "metadata": {},
   "outputs": [
    {
     "data": {
      "text/plain": [
       "array([0, 0, 0, 0, 0, 0, 0, 0, 0, 0, 0, 0, 0, 0, 0, 0, 0, 0, 0, 0, 0, 0,\n",
       "       0, 0, 0, 0, 0, 0, 0, 0])"
      ]
     },
     "execution_count": 18,
     "metadata": {},
     "output_type": "execute_result"
    }
   ],
   "source": [
    "array = np.zeros(column_names.shape[0],dtype = int)\n",
    "array"
   ]
  },
  {
   "cell_type": "code",
   "execution_count": 19,
   "id": "86dd52a6",
   "metadata": {},
   "outputs": [
    {
     "data": {
      "text/plain": [
       "array([  17,   10,  122, 1000,    0,    0,    0,    0,    0,    0,    1,\n",
       "          0,    8,  153,    0,    0,    0,    0,    0,    0,   25,   17,\n",
       "        184, 2019,    0,    0,    0,    0,    0,    0])"
      ]
     },
     "execution_count": 19,
     "metadata": {},
     "output_type": "execute_result"
    }
   ],
   "source": [
    "array[0] = mean_radius\n",
    "array[1] = mean_texture\n",
    "array[2] = mean_perimeter\n",
    "array[3] = mean_area\n",
    "array[4] = mean_smoothness\n",
    "array[5] = mean_compactness\n",
    "array[6] = mean_concavity\n",
    "array[7] = mean_concave_points\n",
    "array[8] = mean_symmetry\n",
    "array[9] = mean_fractal_dimension\n",
    "array[10] = radius_error\n",
    "array[11] = texture_error\n",
    "array[12] = perimeter_error\n",
    "array[13] = area_error\n",
    "array[14] = smoothness_error\n",
    "array[15] = compactness_error\n",
    "array[16] = concavity_error\n",
    "array[17] = concave_points_error\n",
    "array[18] = symmetry_error\n",
    "array[19] = fractal_dimension_error\n",
    "array[20] = worst_radius\n",
    "array[21] = worst_texture\n",
    "array[22] = worst_perimeter\n",
    "array[23] = worst_area\n",
    "array[24] = worst_smoothness\n",
    "array[25] = worst_compactness\n",
    "array[26] = worst_concavity\n",
    "array[27] = worst_concave_points\n",
    "array[28] = worst_symmetry\n",
    "array[29] = worst_fractal_dimension\n",
    "\n",
    "array\n"
   ]
  },
  {
   "cell_type": "code",
   "execution_count": 23,
   "id": "e13cc9dd",
   "metadata": {},
   "outputs": [
    {
     "name": "stdout",
     "output_type": "stream",
     "text": [
      "She is not having symptoms of breast cancer.\n"
     ]
    },
    {
     "name": "stderr",
     "output_type": "stream",
     "text": [
      "C:\\Users\\HP\\AppData\\Roaming\\Python\\Python310\\site-packages\\sklearn\\base.py:450: UserWarning: X does not have valid feature names, but DecisionTreeClassifier was fitted with feature names\n",
      "  warnings.warn(\n"
     ]
    }
   ],
   "source": [
    "predict_cancer = dt_clf_model.predict([array])[0]\n",
    "if predict_cancer == 1:\n",
    "    print(\"She is having symptoms of breast cancer.\")\n",
    "else:\n",
    "    print(\"She is not having symptoms of breast cancer.\")"
   ]
  }
 ],
 "metadata": {
  "kernelspec": {
   "display_name": "Python 3 (ipykernel)",
   "language": "python",
   "name": "python3"
  },
  "language_info": {
   "codemirror_mode": {
    "name": "ipython",
    "version": 3
   },
   "file_extension": ".py",
   "mimetype": "text/x-python",
   "name": "python",
   "nbconvert_exporter": "python",
   "pygments_lexer": "ipython3",
   "version": "3.10.5"
  }
 },
 "nbformat": 4,
 "nbformat_minor": 5
}
